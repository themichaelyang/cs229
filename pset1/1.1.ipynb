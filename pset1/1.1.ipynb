{
 "cells": [
  {
   "cell_type": "markdown",
   "metadata": {},
   "source": [
    "# Logistic regression\n",
    "\n",
    "- Newton's model"
   ]
  },
  {
   "cell_type": "code",
   "execution_count": 233,
   "metadata": {},
   "outputs": [
    {
     "name": "stdout",
     "output_type": "stream",
     "text": [
      "[[ 1.          1.3432504  -1.3311479 ]\n",
      " [ 1.          1.8205529  -0.6346681 ]\n",
      " [ 1.          0.98632067 -1.8885762 ]\n",
      " [ 1.          1.9443734  -1.635452  ]\n",
      " [ 1.          0.97673352 -1.3533151 ]]\n",
      "[0 0 0 0 0 0 0 0 0 0 0 0 0 0 0 0 0 0 0 0 0 0 0 0 0 0 0 0 0 0 0 0 0 0 0 0 0\n",
      " 0 0 0 0 0 0 0 0 0 0 0 0 0 1 1 1 1 1 1 1 1 1 1 1 1 1 1 1 1 1 1 1 1 1 1 1 1\n",
      " 1 1 1 1 1 1 1 1 1 1 1 1 1 1 1 1 1 1 1 1 1 1 1 1 1]\n",
      "[0. 0. 0.]\n"
     ]
    }
   ],
   "source": [
    "import numpy as np\n",
    "\n",
    "raw_X = np.loadtxt(path('data/logistic_x.txt')) # m x n\n",
    "raw_y = np.loadtxt(path('data/logistic_y.txt')) # 1 x m\n",
    "\n",
    "y = np.array([1 if v == 1 else 0 for v in raw_y])\n",
    "\n",
    "x_0 = np.ones(X.shape[0]).reshape(-1, 1) # (m,) => (m, 1)\n",
    "X = np.concatenate((x_0, raw_X), axis=1) # m, n+1\n",
    "\n",
    "theta = np.zeros(X.shape[1])\n",
    "\n",
    "print(X[:5])\n",
    "print(y)\n",
    "print(theta)"
   ]
  },
  {
   "cell_type": "markdown",
   "metadata": {},
   "source": [
    "## Newton's method\n",
    "\n",
    "Update rule: $\\theta := \\theta - H^{-1} \\nabla_{\\theta} l(\\theta)$\n",
    "\n",
    "Partial derivative vector and Hessian:\n",
    "$$\n",
    "\\begin{aligned}\n",
    "\\nabla_{\\theta} \\ell (\\theta)_{j} &= \\sum_{i = 1}^m (y^{(i)} - h_{\\theta}(x^{(i)}))x_j^{(i)} \\\\\n",
    "\\\\\n",
    "H_{kj} &= \\frac{\\partial^2 \\ell(\\theta)}{\\partial \\theta_k \\partial \\theta_j} \\\\\n",
    "&= \\sum_{i = 1}^m x_j^{(i)} x_k^{(i)} g(\\theta^T x^{(i)}) (1 - g(\\theta^T x^{(i)}))\n",
    "\\end{aligned}\n",
    "$$"
   ]
  },
  {
   "cell_type": "code",
   "execution_count": 259,
   "metadata": {},
   "outputs": [],
   "source": [
    "def sigmoid(z):\n",
    "    '''vectorized sigmoid'''\n",
    "    return 1 / (1 + np.exp(-z))\n",
    "\n",
    "def hypothesis(theta, X):\n",
    "    '''vectorized hypothesis, X = design matrix'''\n",
    "    return sigmoid(X @ theta) # result is length m vector\n",
    "\n",
    "def partials(theta, X, y):\n",
    "    '''vectorized partial derivative'''\n",
    "    h = hypothesis(theta, X)\n",
    "    residuals = (y - h)\n",
    "    # jth index of this vector = sum over all training: res * jth feature\n",
    "    return residuals @ X # result is length n vector\n",
    "\n",
    "def hessian(theta, X, y):\n",
    "    prod = hypothesis(theta, X) * (1 - hypothesis(theta, X)) # m-vector\n",
    "    D = np.diag(prod) # construct diagonal matrix of sigmoid products\n",
    "    return -X.T @ D @ X # error: was missing the - sign!! spent so long on this\n",
    "\n",
    "# this cost only works for for y = {-1, 1}\n",
    "# def cost(theta, X, y):\n",
    "#     m = X.shape[0]\n",
    "#     return np.sum(np.log(1 + np.exp( (-y - (X @ theta) ))) / m\n",
    "\n",
    "def likelihood(theta, X, y):\n",
    "    class_1 = y @ np.log(hypothesis(theta, X))\n",
    "    class_0 = (1 - y) @ np.log(1 - hypothesis(theta, X))\n",
    "    \n",
    "    return np.sum(class_1 + class_0)\n",
    "    \n",
    "    "
   ]
  },
  {
   "cell_type": "code",
   "execution_count": 269,
   "metadata": {},
   "outputs": [
    {
     "name": "stdout",
     "output_type": "stream",
     "text": [
      "[-6.99440506e-15  2.41091525e-15  1.54579547e-15]\n",
      "[[  -9.90970038  -38.43213702    2.56818668]\n",
      " [ -38.43213702 -182.17193298   17.25050443]\n",
      " [   2.56818668   17.25050443  -18.31160651]]\n",
      "[0.04073121 0.12131754 0.01656349 0.04484215 0.03035866 0.02828366\n",
      " 0.02905196 0.01920403 0.00827117 0.01096214 0.01366143 0.01057479\n",
      " 0.00603423 0.01592071 0.02392364 0.0291358  0.10871429 0.11096994\n",
      " 0.05064028 0.06006143 0.06707658 0.14272094 0.10060626 0.06899812\n",
      " 0.10186142 0.30013094 0.28640268 0.41153633 0.2928778  0.1408945\n",
      " 0.06949077 0.09748447 0.08180517 0.04364637 0.02554666 0.75710254\n",
      " 0.90994524 0.92371256 0.1579067  0.03555153 0.1639652  0.27823047\n",
      " 0.32164549 0.36227599 0.51603559 0.45973066 0.35379083 0.25140471\n",
      " 0.91996552 0.33586698 0.93876111 0.95140608 0.89844556 0.90410634\n",
      " 0.82525191 0.82579046 0.84156756 0.80968021 0.91269446 0.84308645\n",
      " 0.90957544 0.94732637 0.89031988 0.98679538 0.99405303 0.99324704\n",
      " 0.98469801 0.99538512 0.87365755 0.82566227 0.92383621 0.87762173\n",
      " 0.89000912 0.99398561 0.99460479 0.9171161  0.85192674 0.96102682\n",
      " 0.96024115 0.94478743 0.97060697 0.98566133 0.9526678  0.04421155\n",
      " 0.10139847 0.35043923 0.95205284 0.33956349 0.82929724 0.83071065\n",
      " 0.73797853 0.56427976 0.32075546 0.14952316 0.75522211 0.73141835\n",
      " 0.80689587 0.71799041 0.63522927]\n"
     ]
    }
   ],
   "source": [
    "print(partials(theta, X, y))\n",
    "print(hessian(theta, X, y))\n",
    "print(hypothesis(theta, X))"
   ]
  },
  {
   "cell_type": "code",
   "execution_count": 272,
   "metadata": {},
   "outputs": [],
   "source": [
    "def newton(theta, X, y, threshold = 0.001, max_iter = 15):\n",
    "\n",
    "    history = []\n",
    "    delta = np.Inf\n",
    "    \n",
    "    while delta >= threshold and len(history) <= max_iter:\n",
    "        args = (theta, X, y)\n",
    "        theta -= np.linalg.pinv(hessian(*args)) @ partials(*args)\n",
    "        l = likelihood(*args)\n",
    "        delta = l - history[-1] if len(history) >= 1 else np.Inf\n",
    "        history.append(l)\n",
    "\n",
    "    return theta"
   ]
  },
  {
   "cell_type": "code",
   "execution_count": 273,
   "metadata": {},
   "outputs": [
    {
     "name": "stdout",
     "output_type": "stream",
     "text": [
      "[-2.62050954  0.76037096  1.17194549]\n"
     ]
    }
   ],
   "source": [
    "theta = np.zeros(X.shape[1])\n",
    "theta = newton(theta, X, y)\n",
    "print(theta)"
   ]
  },
  {
   "cell_type": "code",
   "execution_count": null,
   "metadata": {},
   "outputs": [],
   "source": []
  }
 ],
 "metadata": {
  "kernelspec": {
   "display_name": "Python 3",
   "language": "python",
   "name": "python3"
  },
  "language_info": {
   "codemirror_mode": {
    "name": "ipython",
    "version": 3
   },
   "file_extension": ".py",
   "mimetype": "text/x-python",
   "name": "python",
   "nbconvert_exporter": "python",
   "pygments_lexer": "ipython3",
   "version": "3.7.0"
  }
 },
 "nbformat": 4,
 "nbformat_minor": 2
}
