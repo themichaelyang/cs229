{
 "cells": [
  {
   "cell_type": "markdown",
   "metadata": {},
   "source": [
    "# Logistic regression\n",
    "\n",
    "- Newton's model"
   ]
  },
  {
   "cell_type": "code",
   "execution_count": 233,
   "metadata": {},
   "outputs": [
    {
     "name": "stdout",
     "output_type": "stream",
     "text": [
      "[[ 1.          1.3432504  -1.3311479 ]\n",
      " [ 1.          1.8205529  -0.6346681 ]\n",
      " [ 1.          0.98632067 -1.8885762 ]\n",
      " [ 1.          1.9443734  -1.635452  ]\n",
      " [ 1.          0.97673352 -1.3533151 ]]\n",
      "[0 0 0 0 0 0 0 0 0 0 0 0 0 0 0 0 0 0 0 0 0 0 0 0 0 0 0 0 0 0 0 0 0 0 0 0 0\n",
      " 0 0 0 0 0 0 0 0 0 0 0 0 0 1 1 1 1 1 1 1 1 1 1 1 1 1 1 1 1 1 1 1 1 1 1 1 1\n",
      " 1 1 1 1 1 1 1 1 1 1 1 1 1 1 1 1 1 1 1 1 1 1 1 1 1]\n",
      "[0. 0. 0.]\n"
     ]
    }
   ],
   "source": [
    "import numpy as np\n",
    "\n",
    "raw_X = np.loadtxt(path('data/logistic_x.txt')) # m x n\n",
    "raw_y = np.loadtxt(path('data/logistic_y.txt')) # 1 x m\n",
    "\n",
    "y = np.array([1 if v == 1 else 0 for v in raw_y])\n",
    "\n",
    "x_0 = np.ones(X.shape[0]).reshape(-1, 1) # (m,) => (m, 1)\n",
    "X = np.concatenate((x_0, raw_X), axis=1) # m, n+1\n",
    "\n",
    "theta = np.zeros(X.shape[1])\n",
    "\n",
    "print(X[:5])\n",
    "print(y)\n",
    "print(theta)"
   ]
  },
  {
   "cell_type": "markdown",
   "metadata": {},
   "source": [
    "## Newton's method\n",
    "\n",
    "Update rule: $\\theta := \\theta - H^{-1} \\nabla_{\\theta} l(\\theta)$\n",
    "\n",
    "Partial derivative vector and Hessian:\n",
    "$$\n",
    "\\begin{aligned}\n",
    "\\nabla_{\\theta} \\ell (\\theta)_{j} &= \\sum_{i = 1}^m (y^{(i)} - h_{\\theta}(x^{(i)}))x_j^{(i)} \\\\\n",
    "\\\\\n",
    "H_{kj} &= \\frac{\\partial^2 \\ell(\\theta)}{\\partial \\theta_k \\partial \\theta_j} \\\\\n",
    "&= \\sum_{i = 1}^m x_j^{(i)} x_k^{(i)} g(\\theta^T x^{(i)}) (1 - g(\\theta^T x^{(i)}))\n",
    "\\end{aligned}\n",
    "$$"
   ]
  },
  {
   "cell_type": "code",
   "execution_count": 247,
   "metadata": {},
   "outputs": [],
   "source": [
    "def sigmoid(z):\n",
    "    '''vectorized sigmoid'''\n",
    "    return 1 / (1 + np.exp(-z))\n",
    "\n",
    "def hypothesis(theta, X):\n",
    "    '''vectorized hypothesis, X = design matrix'''\n",
    "    return sigmoid(X @ theta) # result is length m vector\n",
    "\n",
    "def partials(theta, X, y):\n",
    "    '''vectorized partial derivative'''\n",
    "    h = hypothesis(theta, X)\n",
    "    residuals = (y - h)\n",
    "    # jth index of this vector = sum over all training: res * jth feature\n",
    "    return residuals @ X # result is length n vector\n",
    "\n",
    "def hessian(theta, X, y):\n",
    "    prod = hypothesis(theta, X) * (1 - hypothesis(theta, X)) # m-vector\n",
    "    D = np.diag(prod) # construct diagonal matrix of sigmoid products\n",
    "    return -X.T @ D @ X # error: was missing the - sign!! spent so long on this\n",
    "\n",
    "# for y = {-1, 1}\n",
    "# def cost(theta, X, y):\n",
    "#     m = X.shape[0]\n",
    "#     return np.sum(np.log(1 + np.exp( (-y - (X @ theta) ))) / m\n",
    "\n",
    "# def log_likelihood(theta, X, y):\n",
    "    "
   ]
  },
  {
   "cell_type": "code",
   "execution_count": 248,
   "metadata": {},
   "outputs": [
    {
     "name": "stdout",
     "output_type": "stream",
     "text": [
      "[ -2.         101.14803662 118.76289677]\n",
      "[[0. 0. 0.]\n",
      " [0. 0. 0.]\n",
      " [0. 0. 0.]]\n",
      "[1. 1. 1. 1. 1. 1. 1. 1. 1. 1. 1. 1. 1. 1. 1. 1. 1. 1. 1. 1. 1. 1. 1. 1.\n",
      " 1. 1. 1. 1. 1. 1. 1. 1. 1. 1. 1. 0. 0. 0. 1. 1. 1. 1. 1. 1. 0. 1. 1. 1.\n",
      " 0. 1. 0. 0. 0. 0. 0. 0. 0. 0. 0. 0. 0. 0. 0. 0. 0. 0. 0. 0. 0. 0. 0. 0.\n",
      " 0. 0. 0. 0. 0. 0. 0. 0. 0. 0. 0. 1. 1. 1. 0. 1. 0. 0. 0. 0. 1. 1. 0. 0.\n",
      " 0. 0. 0.]\n"
     ]
    }
   ],
   "source": [
    "print(partials(theta, X, y))\n",
    "print(hessian(theta, X, y))\n",
    "print(hypothesis(theta, X))"
   ]
  },
  {
   "cell_type": "code",
   "execution_count": 249,
   "metadata": {},
   "outputs": [],
   "source": [
    "def newton(theta, X, y, threshold = 0, max_iter = 15):\n",
    "\n",
    "    delta = 1000\n",
    "#     cost_history = []\n",
    "    iterations = 0\n",
    "    \n",
    "    while delta >= threshold and iterations <= max_iter:\n",
    "        args = (theta, X, y)\n",
    "        theta -= np.linalg.pinv(hessian(*args)) @ partials(*args)\n",
    "#         c = cost(*args)\n",
    "#         cost_history.append(c)\n",
    "        delta = 10\n",
    "        iterations += 1\n",
    "        print(theta)\n",
    "        \n",
    "    return theta"
   ]
  },
  {
   "cell_type": "code",
   "execution_count": 250,
   "metadata": {},
   "outputs": [
    {
     "name": "stdout",
     "output_type": "stream",
     "text": [
      "[-1.50983811  0.43509696  0.62161752]\n",
      "[-2.21834632  0.64372727  0.95944716]\n",
      "[-2.55431051  0.74137714  1.13493588]\n",
      "[-2.61847133  0.75979248  1.1707512 ]\n",
      "[-2.62050954  0.76037096  1.17194549]\n",
      "[-2.6205116   0.76037154  1.17194674]\n",
      "[-2.6205116   0.76037154  1.17194674]\n",
      "[-2.6205116   0.76037154  1.17194674]\n",
      "[-2.6205116   0.76037154  1.17194674]\n",
      "[-2.6205116   0.76037154  1.17194674]\n",
      "[-2.6205116   0.76037154  1.17194674]\n",
      "[-2.6205116   0.76037154  1.17194674]\n",
      "[-2.6205116   0.76037154  1.17194674]\n",
      "[-2.6205116   0.76037154  1.17194674]\n",
      "[-2.6205116   0.76037154  1.17194674]\n",
      "[-2.6205116   0.76037154  1.17194674]\n",
      "[-2.6205116   0.76037154  1.17194674]\n"
     ]
    }
   ],
   "source": [
    "theta = np.zeros(X.shape[1])\n",
    "theta = newton(theta, X, y)\n",
    "print(theta)"
   ]
  },
  {
   "cell_type": "code",
   "execution_count": null,
   "metadata": {},
   "outputs": [],
   "source": []
  },
  {
   "cell_type": "code",
   "execution_count": null,
   "metadata": {},
   "outputs": [],
   "source": []
  },
  {
   "cell_type": "code",
   "execution_count": null,
   "metadata": {},
   "outputs": [],
   "source": []
  },
  {
   "cell_type": "code",
   "execution_count": null,
   "metadata": {},
   "outputs": [],
   "source": []
  },
  {
   "cell_type": "code",
   "execution_count": null,
   "metadata": {},
   "outputs": [],
   "source": []
  },
  {
   "cell_type": "code",
   "execution_count": null,
   "metadata": {},
   "outputs": [],
   "source": []
  }
 ],
 "metadata": {
  "kernelspec": {
   "display_name": "Python 3",
   "language": "python",
   "name": "python3"
  },
  "language_info": {
   "codemirror_mode": {
    "name": "ipython",
    "version": 3
   },
   "file_extension": ".py",
   "mimetype": "text/x-python",
   "name": "python",
   "nbconvert_exporter": "python",
   "pygments_lexer": "ipython3",
   "version": "3.7.0"
  }
 },
 "nbformat": 4,
 "nbformat_minor": 2
}
