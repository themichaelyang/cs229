{
 "cells": [
  {
   "cell_type": "markdown",
   "metadata": {},
   "source": [
    "# Logistic regression\n",
    "\n",
    "- Newton's model"
   ]
  },
  {
   "cell_type": "code",
   "execution_count": 21,
   "metadata": {},
   "outputs": [
    {
     "name": "stdout",
     "output_type": "stream",
     "text": [
      "[[ 1.3432504  -1.3311479 ]\n",
      " [ 1.8205529  -0.6346681 ]\n",
      " [ 0.98632067 -1.8885762 ]\n",
      " [ 1.9443734  -1.635452  ]\n",
      " [ 0.97673352 -1.3533151 ]]\n",
      "[-1. -1. -1. -1. -1.]\n",
      "[0. 0.]\n"
     ]
    }
   ],
   "source": [
    "import numpy as np\n",
    "\n",
    "X = np.loadtxt(path('data/logistic_x.txt')) # m x n\n",
    "y = np.loadtxt(path('data/logistic_y.txt')) # 1 x m\n",
    "\n",
    "theta = np.zeros(X.shape[1])\n",
    "\n",
    "print(X[:5])\n",
    "print(y[:5])\n",
    "print(theta)"
   ]
  },
  {
   "cell_type": "markdown",
   "metadata": {},
   "source": [
    "## Newton's method\n",
    "\n",
    "Update rule: $\\theta := \\theta - H^{-1} \\nabla_{\\theta} l(\\theta)$\n",
    "\n",
    "Partial derivative vector and Hessian:\n",
    "$$\n",
    "\\begin{aligned}\n",
    "\\nabla_{\\theta} \\ell (\\theta)_{j} &= \\sum_{i = 1}^m (y^{(i)} - h_{\\theta}(x^{(i)}))x_j^{(i)} \\\\\n",
    "\\\\\n",
    "H_{kj} &= \\frac{\\partial^2 \\ell(\\theta)}{\\partial \\theta_k \\partial \\theta_j} \\\\\n",
    "&= \\sum_{i = 1}^m x_j^{(i)} x_k^{(i)} g(\\theta^T x^{(i)}) (1 - g(\\theta^T x^{(i)}))\n",
    "\\end{aligned}\n",
    "$$"
   ]
  },
  {
   "cell_type": "code",
   "execution_count": 26,
   "metadata": {},
   "outputs": [],
   "source": [
    "def sigmoid(z):\n",
    "    '''vectorized sigmoid'''\n",
    "    return 1 / np.exp(z)\n",
    "\n",
    "def hypothesis(theta, X):\n",
    "    '''vectorized hypothesis, X = design matrix'''\n",
    "    return sigmoid(X @ theta)\n",
    "\n",
    "def partials(theta, X, y):\n",
    "    '''vectorized partial derivative'''\n",
    "    h = hypothesis(theta, X)\n",
    "    residuals = (y - h)\n",
    "    # jth index of this vector = sum over all training: res * jth feature\n",
    "    return residuals @ X # result is length n vector"
   ]
  },
  {
   "cell_type": "code",
   "execution_count": 27,
   "metadata": {},
   "outputs": [
    {
     "name": "stdout",
     "output_type": "stream",
     "text": [
      "[-293.06814416  144.47646893]\n"
     ]
    }
   ],
   "source": [
    "print(partials(theta, X, y))"
   ]
  },
  {
   "cell_type": "code",
   "execution_count": null,
   "metadata": {},
   "outputs": [],
   "source": []
  }
 ],
 "metadata": {
  "kernelspec": {
   "display_name": "Python 3",
   "language": "python",
   "name": "python3"
  },
  "language_info": {
   "codemirror_mode": {
    "name": "ipython",
    "version": 3
   },
   "file_extension": ".py",
   "mimetype": "text/x-python",
   "name": "python",
   "nbconvert_exporter": "python",
   "pygments_lexer": "ipython3",
   "version": "3.7.0"
  }
 },
 "nbformat": 4,
 "nbformat_minor": 2
}
