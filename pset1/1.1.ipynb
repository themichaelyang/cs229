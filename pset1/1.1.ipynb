{
 "cells": [
  {
   "cell_type": "markdown",
   "metadata": {},
   "source": [
    "# Logistic regression\n",
    "\n",
    "- Newton's model"
   ]
  },
  {
   "cell_type": "code",
   "execution_count": 233,
   "metadata": {},
   "outputs": [
    {
     "name": "stdout",
     "output_type": "stream",
     "text": [
      "[[ 1.          1.3432504  -1.3311479 ]\n",
      " [ 1.          1.8205529  -0.6346681 ]\n",
      " [ 1.          0.98632067 -1.8885762 ]\n",
      " [ 1.          1.9443734  -1.635452  ]\n",
      " [ 1.          0.97673352 -1.3533151 ]]\n",
      "[0 0 0 0 0 0 0 0 0 0 0 0 0 0 0 0 0 0 0 0 0 0 0 0 0 0 0 0 0 0 0 0 0 0 0 0 0\n",
      " 0 0 0 0 0 0 0 0 0 0 0 0 0 1 1 1 1 1 1 1 1 1 1 1 1 1 1 1 1 1 1 1 1 1 1 1 1\n",
      " 1 1 1 1 1 1 1 1 1 1 1 1 1 1 1 1 1 1 1 1 1 1 1 1 1]\n",
      "[0. 0. 0.]\n"
     ]
    }
   ],
   "source": [
    "import numpy as np\n",
    "\n",
    "raw_X = np.loadtxt(path('data/logistic_x.txt')) # m x n\n",
    "raw_y = np.loadtxt(path('data/logistic_y.txt')) # 1 x m\n",
    "\n",
    "y = np.array([1 if v == 1 else 0 for v in raw_y])\n",
    "\n",
    "x_0 = np.ones(X.shape[0]).reshape(-1, 1) # (m,) => (m, 1)\n",
    "X = np.concatenate((x_0, raw_X), axis=1) # m, n+1\n",
    "\n",
    "theta = np.zeros(X.shape[1])\n",
    "\n",
    "print(X[:5])\n",
    "print(y)\n",
    "print(theta)"
   ]
  },
  {
   "cell_type": "markdown",
   "metadata": {},
   "source": [
    "## Newton's method\n",
    "\n",
    "Update rule: $\\theta := \\theta - H^{-1} \\nabla_{\\theta} l(\\theta)$\n",
    "\n",
    "Partial derivative vector and Hessian:\n",
    "$$\n",
    "\\begin{aligned}\n",
    "\\nabla_{\\theta} \\ell (\\theta)_{j} &= \\sum_{i = 1}^m (y^{(i)} - h_{\\theta}(x^{(i)}))x_j^{(i)} \\\\\n",
    "\\\\\n",
    "H_{kj} &= \\frac{\\partial^2 \\ell(\\theta)}{\\partial \\theta_k \\partial \\theta_j} \\\\\n",
    "&= \\sum_{i = 1}^m x_j^{(i)} x_k^{(i)} g(\\theta^T x^{(i)}) (1 - g(\\theta^T x^{(i)}))\n",
    "\\end{aligned}\n",
    "$$"
   ]
  },
  {
   "cell_type": "code",
   "execution_count": 276,
   "metadata": {},
   "outputs": [],
   "source": [
    "def sigmoid(z):\n",
    "    '''vectorized sigmoid'''\n",
    "    return 1 / (1 + np.exp(-z))\n",
    "\n",
    "def hypothesis(theta, X):\n",
    "    '''vectorized hypothesis, X = design matrix'''\n",
    "    return sigmoid(X @ theta) # result is length m vector\n",
    "\n",
    "def partials(theta, X, y):\n",
    "    '''vectorized partial derivative'''\n",
    "    h = hypothesis(theta, X)\n",
    "    residuals = (y - h)\n",
    "    # jth index of this vector = sum over all training: res * jth feature\n",
    "    return residuals @ X # result is length n vector\n",
    "\n",
    "def hessian(theta, X, y):\n",
    "    prod = hypothesis(theta, X) * (1 - hypothesis(theta, X)) # m-vector\n",
    "    D = np.diag(prod) # construct diagonal matrix of sigmoid products\n",
    "    return -X.T @ D @ X # error: was missing the - sign!! spent so long on this\n",
    "\n",
    "# this cost only works for for y = {-1, 1}\n",
    "# def cost(theta, X, y):\n",
    "#     m = X.shape[0]\n",
    "#     return np.sum(np.log(1 + np.exp( (-y - (X @ theta) ))) / m\n",
    "\n",
    "def likelihood(theta, X, y):\n",
    "    class_1 = y @ np.log(hypothesis(theta, X))\n",
    "    class_0 = (1 - y) @ np.log(1 - hypothesis(theta, X))\n",
    "    \n",
    "    return np.sum(class_1 + class_0)\n",
    "    "
   ]
  },
  {
   "cell_type": "code",
   "execution_count": 277,
   "metadata": {},
   "outputs": [
    {
     "name": "stdout",
     "output_type": "stream",
     "text": [
      "[-1.43906518e-06  4.43361739e-06  1.82322919e-05]\n",
      "[[  -9.90971011  -38.43217484    2.56819119]\n",
      " [ -38.43217484 -182.17210976   17.25051958]\n",
      " [   2.56819119   17.25051958  -18.31163814]]\n",
      "[0.04073133 0.12131773 0.01656355 0.04484228 0.03035875 0.02828376\n",
      " 0.02905206 0.0192041  0.0082712  0.01096219 0.01366149 0.01057484\n",
      " 0.00603426 0.01592078 0.02392373 0.02913591 0.10871452 0.11097018\n",
      " 0.05064044 0.06006161 0.06707675 0.14272118 0.10060648 0.06899829\n",
      " 0.10186163 0.30013108 0.28640283 0.41153642 0.29287794 0.1408947\n",
      " 0.06949091 0.09748463 0.08180533 0.04364649 0.02554674 0.75710239\n",
      " 0.90994506 0.92371242 0.15790701 0.03555166 0.16396542 0.27823057\n",
      " 0.32164569 0.36227619 0.5160356  0.45973086 0.35379108 0.25140507\n",
      " 0.91996536 0.33586706 0.93876097 0.95140595 0.89844538 0.90410616\n",
      " 0.8252517  0.82579024 0.84156734 0.80967997 0.91269433 0.84308631\n",
      " 0.9095753  0.94732626 0.89031974 0.98679534 0.99405301 0.99324701\n",
      " 0.98469795 0.9953851  0.87365739 0.82566212 0.92383608 0.87762158\n",
      " 0.89000896 0.99398558 0.99460477 0.91711597 0.85192654 0.96102671\n",
      " 0.96024103 0.94478728 0.97060687 0.98566127 0.95266766 0.0442117\n",
      " 0.10139869 0.35043925 0.95205268 0.33956379 0.82929713 0.83071054\n",
      " 0.73797851 0.56427969 0.32075556 0.14952338 0.75522195 0.73141827\n",
      " 0.8068956  0.71799018 0.63522907]\n"
     ]
    }
   ],
   "source": [
    "print(partials(theta, X, y))\n",
    "print(hessian(theta, X, y))\n",
    "print(hypothesis(theta, X))"
   ]
  },
  {
   "cell_type": "code",
   "execution_count": 278,
   "metadata": {},
   "outputs": [],
   "source": [
    "def newton(theta, X, y, threshold = 0.001, max_iter = 15):\n",
    "\n",
    "    history = []\n",
    "    delta = np.Inf\n",
    "    \n",
    "    while delta >= threshold and len(history) <= max_iter:\n",
    "        args = (theta, X, y)\n",
    "        theta -= np.linalg.pinv(hessian(*args)) @ partials(*args)\n",
    "        like = likelihood(*args)\n",
    "        delta = like - history[-1] if len(history) >= 1 else np.Inf\n",
    "        history.append(like)\n",
    "\n",
    "    return theta"
   ]
  },
  {
   "cell_type": "code",
   "execution_count": 279,
   "metadata": {},
   "outputs": [
    {
     "name": "stdout",
     "output_type": "stream",
     "text": [
      "[-2.62050954  0.76037096  1.17194549]\n"
     ]
    }
   ],
   "source": [
    "theta = np.zeros(X.shape[1])\n",
    "theta = newton(theta, X, y)\n",
    "print(theta)"
   ]
  },
  {
   "cell_type": "code",
   "execution_count": 305,
   "metadata": {},
   "outputs": [
    {
     "data": {
      "image/png": "[encoded data removed]",
      "text/plain": [
       "<Figure size 432x288 with 1 Axes>"
      ]
     },
     "metadata": {
      "needs_background": "light"
     },
     "output_type": "display_data"
    }
   ],
   "source": [
    "import matplotlib.pyplot as plt\n",
    "\n",
    "line_x1 = np.arange(-2, 10, 1)\n",
    "line_x2 = [(0.5 - theta[0] - (theta[1] * i)) / theta[2] for i in line_x1]\n",
    "\n",
    "fig, ax = plt.subplots()\n",
    "ax.scatter(X[:,1], X[:,2], s=5, c=y, cmap=\"coolwarm\")\n",
    "ax.plot(line_x1, line_x2, linewidth=1, c='black')\n",
    "fig.suptitle('Decision Boundary Plot')\n",
    "plt.show()"
   ]
  },
  {
   "cell_type": "code",
   "execution_count": null,
   "metadata": {},
   "outputs": [],
   "source": []
  },
  {
   "cell_type": "code",
   "execution_count": null,
   "metadata": {},
   "outputs": [],
   "source": []
  }
 ],
 "metadata": {
  "kernelspec": {
   "display_name": "Python 3",
   "language": "python",
   "name": "python3"
  },
  "language_info": {
   "codemirror_mode": {
    "name": "ipython",
    "version": 3
   },
   "file_extension": ".py",
   "mimetype": "text/x-python",
   "name": "python",
   "nbconvert_exporter": "python",
   "pygments_lexer": "ipython3",
   "version": "3.7.0"
  }
 },
 "nbformat": 4,
 "nbformat_minor": 2
}
